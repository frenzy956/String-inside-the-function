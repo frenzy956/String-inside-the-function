{
 "cells": [
  {
   "cell_type": "markdown",
   "id": "a94bbfb4",
   "metadata": {},
   "source": [
    "# Write a Python program to reverse a string."
   ]
  },
  {
   "cell_type": "markdown",
   "id": "b9615dbc",
   "metadata": {},
   "source": [
    "### Sample String : \"1234abcd\""
   ]
  },
  {
   "cell_type": "markdown",
   "id": "3632b7e2",
   "metadata": {},
   "source": [
    "### Expected Output : \"dcba4321\""
   ]
  },
  {
   "cell_type": "markdown",
   "id": "cd69f704",
   "metadata": {},
   "source": [
    "-------"
   ]
  },
  {
   "cell_type": "code",
   "execution_count": 3,
   "id": "efb9cb70",
   "metadata": {},
   "outputs": [
    {
     "name": "stdout",
     "output_type": "stream",
     "text": [
      "dcba4321\n"
     ]
    }
   ],
   "source": [
    "def string_reverse(str1):\n",
    "\n",
    "    rstr1 = ''\n",
    "    index = len(str1)\n",
    "    while index > 0:\n",
    "        rstr1 += str1[ index - 1 ]\n",
    "        index = index - 1\n",
    "    return rstr1\n",
    "print(string_reverse('1234abcd'))\n"
   ]
  },
  {
   "cell_type": "code",
   "execution_count": null,
   "id": "18911acf",
   "metadata": {},
   "outputs": [],
   "source": []
  }
 ],
 "metadata": {
  "kernelspec": {
   "display_name": "Python 3 (ipykernel)",
   "language": "python",
   "name": "python3"
  },
  "language_info": {
   "codemirror_mode": {
    "name": "ipython",
    "version": 3
   },
   "file_extension": ".py",
   "mimetype": "text/x-python",
   "name": "python",
   "nbconvert_exporter": "python",
   "pygments_lexer": "ipython3",
   "version": "3.9.0b2"
  }
 },
 "nbformat": 4,
 "nbformat_minor": 5
}
